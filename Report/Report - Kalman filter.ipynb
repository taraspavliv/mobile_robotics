{
 "cells": [
  {
   "cell_type": "markdown",
   "metadata": {},
   "source": [
    "MICRO-452 Basics of mobile robotics\n",
    "\n",
    "Project Report\n",
    "\n"
   ]
  },
  {
   "cell_type": "code",
   "execution_count": 5,
   "metadata": {},
   "outputs": [],
   "source": [
    "import numpy as np"
   ]
  },
  {
   "cell_type": "markdown",
   "metadata": {},
   "source": [
    "### Table of Contents\n",
    "\n",
    "* [Introduction](#introduction)\n",
    "* [Filtering](#filtering)\n",
    "    * [General, filtering](#genfiltering)\n",
    "    * [Choosing a filter](#filterchoice)\n",
    "    * [Mathematical model](#mathmodel)\n",
    "    * [Filter initialization](#filterinit)\n",
    "    * [Testing](#testing)\n",
    "    * [Conclusion on filtering](#filterconcl)"
   ]
  },
  {
   "cell_type": "markdown",
   "metadata": {},
   "source": [
    "### Introduction <a class=\"anchor\" id=\"introduction\"></a>\n",
    "The present project takes place in the Basics of mobile robotics course. The goal is to programm a mobile Thymio robot to perform a chosen task. The programm must use computer vision, global navigation, local navigation and filtering to determine the robot's position and make it achieve its objectives.\n",
    "\n",
    "We decided to programm Santo, an unfortunately blue santa that unfortunately has no gifts but is dedicated to its job of visiting all the houses it can.\n",
    "\n",
    "The programm uses an overhead camera to detect the different obstacles, the houses and Santo's position. A global navigation module allows Santo to do some path planning to reach every target. Finally, a Kalman filter using the robot's position from the camera and odometry allows the Thymio to know and correct its position in real time.\n"
   ]
  },
  {
   "cell_type": "markdown",
   "metadata": {},
   "source": [
    "### Filtering <a class=\"anchor\" id=\"filtering\"></a>\n",
    "#### General Filtering <a class=\"anchor\" id=\"genfiltering\"></a>\n",
    "The goal of having a filter in such a project is to take into account the different uncertainties when trying to localize the robot. To \"localize\" the robot means knowing its state, which we defined as its position, angle, velocity and angular velocity with respect to a given reference point.\n",
    "\n",
    "There are multiple ways to gather information about the robot's position with the chosen configuration.\n",
    "- Using the informations given by the overhead camera\n",
    "- Using the odometry and the robot's speed\n",
    "- Using the accelerometer\n",
    "\n",
    "We chose to use the informations given by the overhead camera to derive th robot's position relative to the bottom left corner of the image and its angle relative to the x and y axis of said image.\n",
    "\n",
    "#### Choosing a filter <a class=\"anchor\" id=\"filterchoice\"></a>\n",
    "The chosen filter has to be bayesian. It also should be able to merge all sensors' data to compute the correct robot's position.\n",
    "As seen during the course, there are multiple bayesian filters following the given criteria. The ones that we explored were: \n",
    "\n",
    "- A particle filter. It uses the environment's features to determine a probability distribution of the position of the robot. It requires good sensor's inputs.\n",
    "- A Kalman filter. A mathematical model is derived to predict the robot's state. It is then updated using sensor's measurements.\n",
    "\n",
    "We chose the Kalman filter as it seemed to be the simplest one. Placing the Thymio in a mainly 2D plane didn't allow us to use the infrared sensors for the particle filter. Moreover, the Kalman filter felt more interesting as it is applied in many domains to which students are often confronted."
   ]
  },
  {
   "cell_type": "markdown",
   "metadata": {},
   "source": [
    "#### Mathematical model <a class=\"anchor\" id=\"mathmodel\"></a>\n",
    "The state represents the informations we want to know about the Thymio.\n",
    "\n",
    "$$\\hat{\\mu} = \n",
    "\\begin{bmatrix}\n",
    "x\\\\\n",
    "y\\\\\n",
    "\\dot{x}\\\\\n",
    "\\dot{y}\\\\\n",
    "\\theta\\\\\n",
    "\\dot{\\theta}\\\\\n",
    "\\end{bmatrix}\n",
    "= \n",
    "\\begin{bmatrix}\n",
    "\\mu_{0}\\\\\n",
    "\\mu_{1}\\\\\n",
    "\\mu_{2}\\\\\n",
    "\\mu_{3}\\\\\n",
    "\\mu_{4}\\\\\n",
    "\\mu_{5}\\\\\n",
    "\\end{bmatrix}$$\n",
    "\n",
    "Where:\n",
    "- x is the x-coordinate of the robot relative to the bottom left corner of the camera image\n",
    "- y is the y-coordinate of the robot relative to the bottom left corner of the camera image\n",
    "- $\\dot{x}$ is the speed of the robot in the x direction\n",
    "- $\\dot{y}$ is the speed of the robot in the y direction\n",
    "- $\\theta$ is the robot's angle relative to the image's x and y axis\n",
    "- $\\dot{\\theta}$ is the angular velocity of the robot\n",
    "\n",
    "The numbers $\\mu_{0}$ to $\\mu_{5}$ were attributed to ease the implementation in the code.\n",
    "\n",
    "![Thymio](Thymio.png)\n",
    "\n",
    "The robot receive commands for the left and right motors from the computer. Those two variables are therefore chosen as inputs in the Kalman filter:\n",
    "\n",
    "$$u = \\begin{bmatrix}\n",
    "u_{1}\\\\\n",
    "u_{2}\\\\\n",
    "\\end{bmatrix}\n",
    "$$\n",
    "\n",
    "After choosing the state variables, it is possible to define the mathematical model for the filter.\n",
    "The model is not linear so an extended Kalman filter is used. It's general representation is given as follows:\n",
    "\n",
    "$$\n",
    "\\begin{align}\n",
    "    \\left. \\begin{array}{l}\n",
    "        \\bar{\\mu_{t}} = g(u_{t}, \\mu_{t-1})\\\\\n",
    "        \\bar{\\Sigma_{t}} = G_{t} \\Sigma_{t-1} G_{t} + R_{t}\\\\\n",
    "    \\end{array}\\right\\} Prediction\\, step\\\\\n",
    "    \\\\\n",
    "    \\left. \\begin{array}{l}\n",
    "        K_{t} = \\bar{\\Sigma_{t}} H_{t}^T (H_{t} \\bar{\\Sigma_{t}} H_{t}^T + Q_{t})^{-1}\\\\\n",
    "    \\end{array}\\right\\} Gain\\, computation\\\\\n",
    "    \\\\\n",
    "    \\left. \\begin{array}{l}\n",
    "        \\mu_{t} = \\bar{\\mu_{t}} + K_{t} (y_{t} - h(\\mu_{t})\\\\\n",
    "        \\Sigma_{t} = (I - K_{t} H_{t}) \\bar{\\Sigma_{t}}\\\\\n",
    "    \\end{array}\\right\\} Update\\, step\n",
    "\\end{align}\n",
    "$$\n",
    "\n",
    "The motion model $g$ is purely base on the robot's state and on the inputs.\n",
    "\n",
    "$$g(u_{t}, \\mu_{t-1}) = \n",
    "\\begin{bmatrix}\n",
    "\\mu_{0} + \\frac{T_{1}}{2} \\cos(\\mu_{4}) [u_{1} + u_{2}]\\\\\n",
    "\\mu_{1} + \\frac{T_{1}}{2} \\sin(\\mu_{4}) [u_{1} + u_{2}]\\\\\n",
    "\\frac{1}{2} \\cos(\\mu_{4}) [u_{1} + u_{2}]\\\\\n",
    "\\frac{1}{2} \\sin(\\mu_{4}) [u_{1} + u_{2}]\\\\\n",
    "\\mu_{4} + \\frac{T_{1}}{2r} [u_{1} - u_{2}]\\\\\n",
    "\\frac{1}{2r} [u_{1} - u_{2}]\\\\\n",
    "\\end{bmatrix}$$\n",
    "\n",
    "With $T_{1}$ the time interval between two iterations of the filter and $r$ the radius of the Thymio robot.\n",
    "\n"
   ]
  },
  {
   "cell_type": "code",
   "execution_count": 8,
   "metadata": {},
   "outputs": [],
   "source": [
    "def motModel(x, u, T1, r):\n",
    "    g = np.array([0., 0., 0., 0., 0., 0.]) #just initializing a 2D array\n",
    "    g[0] = (x[0] + T1*math.cos(x[4])*(u[0] + u[1])/2)\n",
    "    g[1] = x[1] + T1*math.sin(x[4])*(u[0] + u[1])/2\n",
    "    g[2] = math.cos(x[4])*(u[0] + u[1])/2\n",
    "    g[3] = math.sin(x[4])*(u[0] + u[1])/2\n",
    "    g[4] = x[4] + T1*(u[0] - u[1]) / (2*r)\n",
    "    g[5] = (u[0] - u[1]) / (2*r)\n",
    "    return "
   ]
  },
  {
   "cell_type": "markdown",
   "metadata": {},
   "source": [
    "It is possible to linearize this function using Taylor's expansion:\n",
    "\n",
    "$$f(x,y) \\approx {f(a,b) + \\frac{\\partial f(x,y)}{\\partial x}\\bigg|_{(a,b)}(x-a) + \\frac{\\partial f(x,y)}{\\partial y}\\bigg|_{(a,b)}(y-b)}$$\n",
    "\n",
    "Computing the jacobian, we get the matrix $G$:\n",
    "\n",
    "$$G = \n",
    "\\begin{bmatrix}\n",
    "1 & 0 & 0 & 0 & -\\frac{T_{1}}{2}\\sin(u_{1}+u_{2}) & 0\\\\\n",
    "0 & 1 & 0 & 0 & \\frac{T_{1}}{2}\\cos(u_{1}+u_{2}) & 0\\\\\n",
    "0 & 0 & 0 & 0 & -\\frac{1}{2}\\sin(u_{1}+u_{2}) & 0\\\\\n",
    "0 & 0 & 0 & 0 & \\frac{1}{2}\\cos(u_{1}+u_{2}) & 0\\\\\n",
    "0 & 0 & 0 & 0 & 1 & 0\\\\\n",
    "0 & 0 & 0 & 0 & 0 & 0\\\\\n",
    "\\end{bmatrix}$$\n",
    "\n"
   ]
  },
  {
   "cell_type": "code",
   "execution_count": 9,
   "metadata": {},
   "outputs": [],
   "source": [
    "def Gjacobian(theta, m1 ,m2, T1, r):\n",
    "    G = np.array([[0.,0.,0.,0.,0.,0.],[0.,0.,0.,0.,0.,0.],[0.,0.,0.,0.,0.,0.],[0.,0.,0.,0.,0.,0.],\n",
    "                  [0.,0.,0.,0.,0.,0.],[0.,0.,0.,0.,0.,0.]])\n",
    "    G[0,0] = 1\n",
    "    G[1,1] = 1\n",
    "    G[0,4] = -T1*math.sin(theta)*(m1+m2)/2\n",
    "    G[1,4] = T1*math.cos(theta)*(m1+m2)/2\n",
    "    G[2,4] = -math.sin(theta)*(m1+m2)/2\n",
    "    G[3,4] = math.cos(theta)*(m1+m2)/2\n",
    "    G[4,4] = 1\n",
    "    return G"
   ]
  },
  {
   "cell_type": "markdown",
   "metadata": {},
   "source": [
    "The measurement model represents the relation between the measured values and the state model of the robot. For simplicity, our group decided to use only the measurements of the camera to derive the x and y position of the robot as well as its angle. \n",
    "\n",
    "$$y_{t}(\\mu_{t}) = \n",
    "\\begin{bmatrix}\n",
    "camX\\\\\n",
    "camY\\\\\n",
    "cam\\theta\\\\\n",
    "\\end{bmatrix}$$\n",
    "\n",
    "The measurement model $h$ is linear and is directly given:\n",
    "\n",
    "$$h(\\mu_{t}) = y_{t}(\\mu_{t})$$\n",
    "\n",
    "The matrix $H$ is the jacobian of $h$:\n",
    "\n",
    "$$H = \n",
    "\\begin{bmatrix}\n",
    "1 & 0 & 0 & 0 & 0 & 0\\\\\n",
    "0 & 1 & 0 & 0 & 0 & 0\\\\\n",
    "0 & 0 & 0 & 0 & 1 & 0\\\\\n",
    "\\end{bmatrix}$$"
   ]
  },
  {
   "cell_type": "code",
   "execution_count": 10,
   "metadata": {},
   "outputs": [],
   "source": [
    "def measModel(x):\n",
    "    h = np.array([0.,0.,0.])\n",
    "    h[0] = x[0]\n",
    "    h[1] = x[1]\n",
    "    h[2] = x[4]\n",
    "    return h\n",
    "\n",
    "def Hjacobian(theta):\n",
    "    H = np.array([[0.,0.,0.,0.,0.,0.],[0.,0.,0.,0.,0.,0.],[0.,0.,0.,0.,0.,0.]])\n",
    "    H[0,0] = 1\n",
    "    H[1,1] = 1\n",
    "    H[2,4] = 1\n",
    "    return H"
   ]
  },
  {
   "cell_type": "markdown",
   "metadata": {},
   "source": [
    "The camera outputs an x = 0 and y = 0 position for the robot when it is hidden. This induced errors in the state estimation. To mitigate this problem, it was chosen not to take measurements into account when the camera doesn't detect any Thymio. This is done by setting the measurement model $h = 0$ and its jacobian $H = 0$."
   ]
  },
  {
   "cell_type": "code",
   "execution_count": 11,
   "metadata": {},
   "outputs": [],
   "source": [
    "def measModel(x,camstate):\n",
    "    h = np.array([0.,0.,0.])\n",
    "    h[0] = x[0]\n",
    "    h[1] = x[1]\n",
    "    h[2] = x[4]\n",
    "    if camState == False:\n",
    "        h[0] = 0\n",
    "        h[1] = 0\n",
    "        h[2] = 0\n",
    "    return h\n",
    "\n",
    "def Hjacobian(theta, camState):\n",
    "    H = np.array([[0.,0.,0.,0.,0.,0.],[0.,0.,0.,0.,0.,0.],[0.,0.,0.,0.,0.,0.]])\n",
    "    H[0,0] = 1\n",
    "    H[1,1] = 1\n",
    "    H[2,4] = 1\n",
    "    if camState == False:\n",
    "        H[0,0] = 0\n",
    "        H[1,1] = 0\n",
    "        H[2,4] = 0\n",
    "    return H"
   ]
  },
  {
   "cell_type": "markdown",
   "metadata": {},
   "source": [
    "#### Filter's initialization <a class=\"anchor\" id=\"filterinit\"></a>\n",
    "Upon starting the programm, multiple values must be initialized in order for the Kalman filter to perform correctly.\n",
    "\n",
    "The first one is the speed conversion constant."
   ]
  },
  {
   "cell_type": "code",
   "execution_count": 2,
   "metadata": {},
   "outputs": [],
   "source": [
    "#Convert speed commands in mm/s\n",
    "speed_conv = 0.36"
   ]
  },
  {
   "cell_type": "markdown",
   "metadata": {},
   "source": [
    "This value depends on the robot used for the experiment. It might also vary depending on the surface the Thymio is rolling on as it might slip during its movements. It is found experimentally by doing some calibration steps.\n",
    "\n",
    "The next value to initalize is the Thymio's radius, or more precisely the middle distance between the two wheels."
   ]
  },
  {
   "cell_type": "code",
   "execution_count": 3,
   "metadata": {},
   "outputs": [],
   "source": [
    "#Thymio's radius\n",
    "r = 47 #mm"
   ]
  },
  {
   "cell_type": "markdown",
   "metadata": {},
   "source": [
    "The incertitude matrices $R$ and $Q$ are found experimentally. They are tuned doing testing so the robot's state estimation is as precise as possible. In our case, the tuned matrices are given below:"
   ]
  },
  {
   "cell_type": "code",
   "execution_count": 6,
   "metadata": {},
   "outputs": [],
   "source": [
    "#uncertainty on state\n",
    "R = np.array([[0.01,0.,0.,0.,0.,0.],[0.,0.01,0.,0.,0.,0.],[0.,0.,0.01,0.,0.,0.],[0.,0.,0.,0.01,0.,0.],\n",
    "              [0.,0.,0.,0.,0.00001,0.],[0.,0.,0.,0.,0.,0.1]])\n",
    "#uncertainty on measurement\n",
    "Q = np.array([[0.01,0.,0.],[0.,0.01,0.],[0.,0.,0.01]])"
   ]
  },
  {
   "cell_type": "markdown",
   "metadata": {},
   "source": [
    "Finally, the Thymio's first state initialization is done using the first frame of the camera when the programm is launched. It allows the Kalman to start with a relatively precise position and angle for the robot."
   ]
  },
  {
   "cell_type": "markdown",
   "metadata": {},
   "source": [
    "#### Testing <a class=\"anchor\" id=\"testing\"></a>\n",
    "The Kalman filter was first tested using simulated data, meaning the fake measures representing the Thymio going in straight lines with sharp turn were inputed in the filter.\n",
    "\n",
    "The second testing method was not relying on the camera measures as the camera setup wasn't available yet. The Thymio's movements were solely based on the motion model $g$.\n",
    "\n",
    "Then, tests were made on the final setup. It allowed to tune the incertitude matrices and the speed conversion constant."
   ]
  },
  {
   "cell_type": "markdown",
   "metadata": {},
   "source": [
    "#### Conclusion on filtering <a class=\"anchor\" id=\"filterconcl\"></a>\n",
    "The extended Kalman filter satifies our needs for this project. It allows to merge the camera measurements with a model of the robot's motion using the motors' commands to compute an estimation of the Thymio's position, speed and angle."
   ]
  },
  {
   "cell_type": "code",
   "execution_count": null,
   "metadata": {},
   "outputs": [],
   "source": []
  }
 ],
 "metadata": {
  "kernelspec": {
   "display_name": "Python 3",
   "language": "python",
   "name": "python3"
  },
  "language_info": {
   "codemirror_mode": {
    "name": "ipython",
    "version": 3
   },
   "file_extension": ".py",
   "mimetype": "text/x-python",
   "name": "python",
   "nbconvert_exporter": "python",
   "pygments_lexer": "ipython3",
   "version": "3.7.1"
  }
 },
 "nbformat": 4,
 "nbformat_minor": 2
}
