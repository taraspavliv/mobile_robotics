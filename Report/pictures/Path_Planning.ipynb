{
 "cells": [
  {
   "cell_type": "markdown",
   "metadata": {},
   "source": [
    "# Path planning\n",
    "The goal of the path planning is to find the shortest path for Santo to travel to all houses. It takes as input the visibility graph of the map, and returns the optimal path, which is a list of coordinates for Santo to follow. This problem is divided in 3 parts:\n",
    "* Simplifiying the graph\n",
    "* Solving a Travelling Salesman Problem\n",
    "* Reconstructing the optimal path\n",
    "\n",
    "Let's see how it works with an example:\n",
    "\n",
    "![title](vis_graph.png)"
   ]
  },
  {
   "cell_type": "markdown",
   "metadata": {},
   "source": [
    "### Simplifying the graph\n",
    "\n",
    "We want to simplify the graph by only keeping the indices of Santo and of the targets. We also want all of them to be connected. To do that, we will apply the dijkstra algorithm multiple times, to find the distance (and the path, used later) between each pair of points of interest (here points of interest are the start point and the target points).\n",
    "\n",
    "For the example above, we take a visibility graph where the start index is 4, and the targets indices are 0 and 3. We want the distance between the vertices 4 and 0, 4 and 3, 0 and 3."
   ]
  },
  {
   "cell_type": "markdown",
   "metadata": {},
   "source": [
    "The function \"create_distance_path_matrix\" stores this information in matrices:\n",
    "\n",
    "Input:\n",
    "* Visibility graph\n",
    "* Start index\n",
    "* Target indices\n",
    "\n",
    "Output:\n",
    "* Matrix storing the distance between all points of interest\n",
    "* Matrix storing the path between all points of interest\n",
    "\n",
    "We can divide by two the number of calculations if we use the fact that the distance from index \"x\" to \"y\" is the same as from \"y\" to \"x\", and that the path is just reversed."
   ]
  },
  {
   "cell_type": "code",
   "execution_count": 1,
   "metadata": {},
   "outputs": [],
   "source": [
    "def create_distance_path_matrix(visibility_graph,start_idx,targets_idx_list):\n",
    "    #we treat start as an objective, from which we start\n",
    "    targets_idx_list.insert(0, start_idx)\n",
    "\n",
    "    nb_interest_point = len(targets_idx_list)\n",
    "    distance_matrix = np.zeros((nb_interest_point, nb_interest_point))\n",
    "    path_matrix = np.zeros((nb_interest_point, nb_interest_point), dtype=object)\n",
    "    for i in range(nb_interest_point):\n",
    "        for j in range(nb_interest_point):\n",
    "            if i==j:\n",
    "                distance_matrix[i][j] = 0\n",
    "                path_matrix[i][j] = [[targets_idx_list[i]]]\n",
    "            elif i > j:\n",
    "                distance_matrix[i][j], path_matrix[i][j] = dijkstra_aglorithm(targets_idx_list[i], targets_idx_list[j], visibility_graph)\n",
    "                distance_matrix[j][i] = distance_matrix[i][j]\n",
    "                path_matrix[j][i] = path_matrix[i][j][::-1]\n",
    "\n",
    "\n",
    "    return distance_matrix, path_matrix"
   ]
  },
  {
   "cell_type": "markdown",
   "metadata": {},
   "source": [
    "From the example above, the output of the function \"create_distance_path_matrix\" would be:\n",
    "\n",
    "![title](path_matrices.png)\n",
    "\n",
    "so the simplified graph can be represented as:\n",
    "\n",
    "![title](simple_graph.png)"
   ]
  },
  {
   "cell_type": "markdown",
   "metadata": {},
   "source": [
    "### Solving a Travelling Salesman Problem\n",
    "The next part is to solve a problem similar to the Travelling Salesman Problem, except that it Santo doesn't need to return to the starting point. We figured that in our project, we will most likely have 3 or 4 targets, so we don't need a fancy algorithm and can afford to test all possible solutions. In fact, even with 8 targets we would need to solve 8! = 40'320 solutions which isn't that much for a modern computer.\n",
    "\n",
    "We also notice that because all points are connceted to each other, we don't need a graph representation and can just use the distance matrix calulated in the \"Simplifying the graph\" part."
   ]
  },
  {
   "cell_type": "markdown",
   "metadata": {},
   "source": [
    "The \"shortest_path\" function is a recursive function, and has the following signature:\n",
    "\n",
    "Input:\n",
    "* The starting index\n",
    "* The list of already visited indices (this list only contains the starting index on the first call)\n",
    "* The distance matrix calulated previously\n",
    "\n",
    "Output:\n",
    "* The shortest distance to go through all indices that aren't yet visited\n",
    "* The index order to follow to have this shortest distance"
   ]
  },
  {
   "cell_type": "code",
   "execution_count": 2,
   "metadata": {},
   "outputs": [],
   "source": [
    "def shortest_path(start_local_idx, visited_idx_list, distance_array):\n",
    "    nb_points = np.size(distance_array,0) #number of points to go through, + 1 for the starting point\n",
    "\n",
    "    distance = np.Inf #value to optimize\n",
    "    idx_list = np.zeros(np.size(distance_array,0)) #saves optimal path\n",
    "\n",
    "    if np.size(visited_idx_list) == nb_points : #end of recursion, all points have been passed through\n",
    "        return 0, np.zeros(np.size(distance_array,0))\n",
    "\n",
    "    temp_distance = 0\n",
    "    temp_idx = np.zeros(np.size(distance_array,0))\n",
    "\n",
    "    for i in range(nb_points):\n",
    "        if i in visited_idx_list : #tries all points that haven't been visited\n",
    "            continue\n",
    "        temp_distance, temp_idx = shortest_path(i, np.append(visited_idx_list, i), distance_array)\n",
    "        temp_distance += distance_array[start_local_idx][i]\n",
    "        \n",
    "        if temp_distance < distance : #if found a better way, updates its optimal path and value\n",
    "            distance = temp_distance\n",
    "            idx_list = temp_idx\n",
    "            idx_list[visited_idx_list.size] = i\n",
    "\n",
    "    return (distance, idx_list)"
   ]
  },
  {
   "cell_type": "markdown",
   "metadata": {},
   "source": [
    "From the example above, as we only have 2 targets, we need to test 2! = 2 possibilities:\n",
    "* The order 4-0-3 which from the distance matrix would give dist(4,0) + dist(0,3) = 4 + 3 = 7\n",
    "* The order 4-3-0 which from the distance matrix would give dist(4,3) + dist(3,0) = 5 + 3 = 8\n",
    "\n",
    "As the first order 4-0-3 gives a shorter distance, we remember this sequence."
   ]
  },
  {
   "cell_type": "markdown",
   "metadata": {},
   "source": [
    "### Reconstructing the optimal path\n",
    "Now that we know the order in which to go to the targets, we reconstruct the optimal path."
   ]
  },
  {
   "cell_type": "markdown",
   "metadata": {},
   "source": [
    "The signature of the functions is the following:\n",
    "\n",
    "Input:\n",
    "* The path matrix calculated in the \"create_distance_path_matrix\" function\n",
    "* The targets index order given by the \"shortest_path\" function\n",
    "* Vertices array which gives the coordinates based on the vertex index\n",
    "\n",
    "Output:\n",
    "* The list of coordinates to follow to go through all targets in the shortest path"
   ]
  },
  {
   "cell_type": "code",
   "execution_count": 4,
   "metadata": {},
   "outputs": [],
   "source": [
    "def reconstruct_optimal_path(path_array, targets_idx_order, vertices):\n",
    "    optimal_path = []\n",
    "    for i in range(len(targets_idx_order)-1):\n",
    "        for j in range(len(path_array[int(targets_idx_order[i])][int(targets_idx_order[i+1])])): #use the path matrix to reconstruct\n",
    "            if i != 0 and j == 0: #to avoid repetition of the same index when joining paths, as the end index of a segement is the start index of the following\n",
    "                continue\n",
    "            optimal_path.append(vertices[path_array[int(targets_idx_order[i])][int(targets_idx_order[i+1])][j]]) #use vertices array which gives coordinates based on index\n",
    "    return optimal_path"
   ]
  },
  {
   "cell_type": "markdown",
   "metadata": {},
   "source": [
    "In the example above, we know that the target order is 4-0-3, so we retrieve the path to travel 4-0 then 0-3. From the Path Matrix, it is [4,1,0] and [0,2,3], so by following the indices [4,1,0,2,3] in the visibility graph, we have the shortest path."
   ]
  },
  {
   "cell_type": "markdown",
   "metadata": {},
   "source": []
  }
 ],
 "metadata": {
  "interpreter": {
   "hash": "31f2aee4e71d21fbe5cf8b01ff0e069b9275f58929596ceb00d14d90e3e16cd6"
  },
  "kernelspec": {
   "display_name": "Python 3.8.10 64-bit",
   "language": "python",
   "name": "python3"
  },
  "language_info": {
   "codemirror_mode": {
    "name": "ipython",
    "version": 3
   },
   "file_extension": ".py",
   "mimetype": "text/x-python",
   "name": "python",
   "nbconvert_exporter": "python",
   "pygments_lexer": "ipython3",
   "version": "3.8.10"
  },
  "orig_nbformat": 4
 },
 "nbformat": 4,
 "nbformat_minor": 2
}
