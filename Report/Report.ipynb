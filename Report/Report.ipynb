{
 "cells": [
  {
   "cell_type": "markdown",
   "metadata": {},
   "source": [
    "MICRO-452 Basics of mobile robotics\n",
    "\n",
    "Project Report\n",
    "\n"
   ]
  },
  {
   "cell_type": "code",
   "execution_count": 1,
   "metadata": {},
   "outputs": [
    {
     "data": {
      "image/jpeg": "[encoded data removed]",
      "text/html": [
       "\n",
       "        <iframe\n",
       "            width=\"400\"\n",
       "            height=\"300\"\n",
       "            src=\"https://www.youtube.com/embed/50Xt3Dh3GrM\"\n",
       "            frameborder=\"0\"\n",
       "            allowfullscreen\n",
       "        ></iframe>\n",
       "        "
      ],
      "text/plain": [
       "<IPython.lib.display.YouTubeVideo at 0x26eceaa28e0>"
      ]
     },
     "metadata": {},
     "output_type": "display_data"
    }
   ],
   "source": [
    "from IPython.display import YouTubeVideo\n",
    "santo_christmas_hero = YouTubeVideo('50Xt3Dh3GrM')\n",
    "display(santo_christmas_hero)"
   ]
  },
  {
   "cell_type": "code",
   "execution_count": 5,
   "metadata": {},
   "outputs": [],
   "source": [
    "import numpy as np"
   ]
  },
  {
   "cell_type": "markdown",
   "metadata": {},
   "source": [
    "### Table of Contents\n",
    "\n",
    "* [Introduction](#introduction)\n",
    "* [Filtering](#filtering)\n",
    "    * [General, filtering](#genfiltering)\n",
    "    * [Choosing a filter](#filterchoice)\n",
    "    * [Mathematical model](#mathmodel)\n",
    "    * [Filter initialization](#filterinit)\n",
    "    * [Testing](#testing)\n",
    "    * [Conclusion on filtering](#filterconcl)"
   ]
  },
  {
   "cell_type": "markdown",
   "metadata": {},
   "source": [
    "### Introduction <a class=\"anchor\" id=\"introduction\"></a>\n",
    "The present project takes place in the Basics of mobile robotics course. The goal is to programm a mobile Thymio robot to perform a chosen task. The programm must use computer vision, global navigation, local navigation and filtering to determine the robot's position and make it achieve its objectives.\n",
    "\n",
    "We decided to programm Santo, an unfortunately blue santa that unfortunately has no gifts but is dedicated to its job of visiting all the houses it can.\n",
    "\n",
    "The programm uses an overhead camera to detect the different obstacles, the houses and Santo's position. A global navigation module allows Santo to do some path planning to reach every target. Finally, a Kalman filter using the robot's position from the camera and odometry allows the Thymio to know and correct its position in real time.\n"
   ]
  },
  {
   "cell_type": "markdown",
   "metadata": {},
   "source": [
    "# Computer vision\n",
    "\n",
    "\n",
    "## Set-up\n",
    "\n",
    "Houses are represented by red shapes, grass by green shapes, the neighbourhood is white, and our thymio is in dark blue. We added a white obstacle (which is the box of the Thymio) that will not be seen by the camera to see how the Thymio handle it on is own.\n",
    "\n",
    "<img src=\"pictures/raw_map.jpg\" alt=\"Drawing\" style=\"width: 400px;\"/>\n",
    "\n",
    "## 2. Computer vision\n",
    "\n",
    "### Libraries\n",
    "Using OpenCV and Shapely libraries, we get a livestream from the webcam and we use the first frame of the video to detect most of the things that we need to plan the navigation of the robot (see sect ------). "
   ]
  },
  {
   "cell_type": "code",
   "execution_count": null,
   "metadata": {},
   "outputs": [],
   "source": [
    "from math import pi\n",
    "import numpy as np \n",
    "from cv2 import cv2 as cv\n",
    "from matplotlib import pyplot as plt\n",
    "from shapely.geometry import MultiPolygon, Polygon \n",
    "from shapely.geometry import LineString, Point"
   ]
  },
  {
   "cell_type": "markdown",
   "metadata": {},
   "source": [
    "### Colour detection and colour space\n",
    "All object detection made during this project is based on colour segmentation, for a matter of simplicity. We first used the default colour space of OpenCv which is BGR to choose ranges used to detect the objects, but these ranges were very sensible to lightning, and the computer vision was not always accurate, so we searched for a colour space suiting better our purpose. BGR colour space is bad for our task because we want to separate chromatic information (Is it red? blue?) and brightness. We found that the HSV (Hue, Saturation, Value) colour space was good for that purpose and OpenCv provides a simple function for converting from one colour space to the other.[1]\n",
    "\n",
    "Colour frames have some random variations in brightness or hue among pixels. So, to have a better detection of colours, we first blurred the image to have less noise using gaussian blur.  \n",
    "We used masks to isolate every needed colour, then, we obtained the contours of the detected objects. We applied an area threshold to be sure to detect only significant objects. \n"
   ]
  },
  {
   "cell_type": "code",
   "execution_count": null,
   "metadata": {},
   "outputs": [],
   "source": [
    "def get_color_contour(frame, color):\n",
    "    if color == \"white\":\n",
    "        lower_color = np.array([0,0,128]) \n",
    "        upper_color = np.array([179,46,247]) \n",
    "    elif color == \"blue\":\n",
    "        lower_color = np.array([96,63,62]) \n",
    "        upper_color = np.array([130,255,255])\n",
    "    elif color == \"red\":\n",
    "        lower_color = np.array([130,100,100]) \n",
    "        upper_color = np.array([179,255,255])\n",
    "    elif color == \"green\":\n",
    "        lower_color = np.array([45,60,0])\n",
    "        upper_color = np.array([90,140,140])\n",
    "    else:\n",
    "        return [0]\n",
    "    frame = cv.cvtColor(frame, cv.COLOR_BGR2HSV)\n",
    "    mask_white = cv.inRange(frame, lower_color, upper_color)\n",
    "    contours, _= cv.findContours(mask_white, cv.RETR_TREE, cv.CHAIN_APPROX_NONE)\n",
    "    \n",
    "    return contours\n"
   ]
  },
  {
   "cell_type": "markdown",
   "metadata": {},
   "source": [
    "### Planar geometry\n",
    "To prepare the visibility graph used for navigation, we used a planar geometry library: Shapely [3]. We approximated every contour by a polygon using the function approxPolyDP function from OpenCv. For the epsilon parameter, which represents the maximum distance between the original curve and the approximation, we set a number depending on the perimeter of the contour, which was found to do quite good approximations. This means the smaller the obstacle, the more the approximation will try to be precise. Then we used the buffer function from Shapely to get an approximate representation of all the points at a distance equal to the radius of the smallest circle fitting the robot of the polygon approximate of the contour of the obstacles and map. This allowed us to consider the robot as a point, being sure that it would not touch obstacles or leave the map."
   ]
  },
  {
   "cell_type": "markdown",
   "metadata": {},
   "source": [
    "### Detecting the map\n",
    "The map is defined as the biggest white contour based on area. By definition, there is only one map. The frame to display is resized based on the smallest rectangle containing this contour. The map is dilated towards its interior by the radius of the robot to ensure that it stay in the map."
   ]
  },
  {
   "cell_type": "code",
   "execution_count": null,
   "metadata": {},
   "outputs": [],
   "source": [
    "def polygon(c):\n",
    "    peri = cv.arcLength(c, True)\n",
    "    approx = cv.approxPolyDP(c, 0.005 * peri, True)\n",
    "    \n",
    "    return approx\n",
    "\n",
    "def cam_get_bounded_frame(frame, show_contour = False, show_polygone = False):\n",
    "    contours_white = get_color_contour(frame, \"white\")\n",
    "\n",
    "    if contours_white: #if list is not empty\n",
    "        contour = max(contours_white, key = cv.contourArea)\n",
    "        #print(contour)\n",
    "    else:\n",
    "        contour = [[0,0],[1,0]]\n",
    "    x_rect,y_rect,w_rect,h_rect = cv.boundingRect(contour)\n",
    "\n",
    "    frame_limits = [y_rect, y_rect+h_rect, x_rect, x_rect+w_rect] #min_y, max_y, min_x, max_x\n",
    "\n",
    "    contour = contour-[x_rect,y_rect]\n",
    "\n",
    "    if show_contour:\n",
    "        cv.drawContours(frame[frame_limits[0]: frame_limits[1], frame_limits[2]: frame_limits[3]], contour, -1, (255,255,255),3)\n",
    "    \n",
    "    if show_polygone:\n",
    "        white_pts = np.squeeze(polygon(contour))\n",
    "        draw_polygone(frame, white_pts, \"white\")\n",
    "\n",
    "    return frame_limits, contour\n",
    "\n",
    "def cam_get_contour(map_contour, radius):\n",
    "    map_contour_poly = Polygon(np.squeeze(polygon(map_contour)))\n",
    "    dilated_map = map_contour_poly.buffer(-radius, join_style=2,single_sided=True)\n",
    "    return map_contour_poly, dilated_map"
   ]
  },
  {
   "cell_type": "markdown",
   "metadata": {},
   "source": [
    "### Detecting Santo (Thymio robot)\n",
    "The pose of the robot is defined as being the center of the smallest circle enclosing the robot. We also use the diameter of this circle in pixels to get a scale from pixels to millimeters (we measured the diagonal of the robot as being 140mm which represents two radii). We also use the smallest rectangle enclosing the robot to get the angle of the robot."
   ]
  },
  {
   "cell_type": "code",
   "execution_count": null,
   "metadata": {},
   "outputs": [],
   "source": [
    "def cam_locate_thymio(frame, show_contour = False, show_circle = False):\n",
    "    contours_blue = get_color_contour(frame, \"blue\")\n",
    "\n",
    "    max_blue_area = 0\n",
    "    thymio_pos = [0,0]\n",
    "    thymio_angle = 0.0\n",
    "    scale_mm = 1\n",
    "    radius = 1\n",
    "    blue_zones_counter = 0\n",
    "    for contour_blue in contours_blue:\n",
    "        area = cv.contourArea(contour_blue)\n",
    "        if area > 1000 and area > max_blue_area:\n",
    "            blue_zones_counter += 1\n",
    "            max_blue_area = area\n",
    "            (x,y),radius = cv.minEnclosingCircle(contour_blue)\n",
    "            (rect_cent, (rect_width, rect_height), rect_angle) = cv.minAreaRect(contour_blue)\n",
    "            center = (int(x),int(y))\n",
    "            scale_mm = 140/(2*radius)\n",
    "            radius = int(radius)\n",
    "            thymio_pos = center\n",
    "            if show_contour:\n",
    "                cv.drawContours(frame, contour_blue, -1, (255,0,0),3)\n",
    "            if show_circle:\n",
    "                cv.circle(frame,center,radius,(255,0,0),2)\n",
    "                cv.circle(frame, center, 7, (255, 0, 0), -1)\n",
    "                box = cv.boxPoints((rect_cent, (rect_width, rect_height), rect_angle))\n",
    "                box_points = list((int(point[0]),int(point[1])) for point in box)\n",
    "                draw_polygone(frame,box_points,\"blue\")\n",
    "            #takes the angle from the rectangle framing the thymio that is the closest to the noisy angle\n",
    "            noisy_angle = np.arctan2(center[1] - rect_cent[1],rect_cent[0] - center[0]) #is in rad\n",
    "            possible_angles = np.array(list((-rect_angle + s*90.)*pi/180. for s in range(4)))\n",
    "            angles_errors = list(abs(np.arctan2(np.sin(noisy_angle - poss_angle), np.cos(noisy_angle - poss_angle))) for poss_angle in possible_angles)\n",
    "            thymio_angle = possible_angles[np.argmin(angles_errors)]\n",
    "    thymio_visible = True\n",
    "\n",
    "    if blue_zones_counter == 0:\n",
    "        thymio_visible = False\n",
    "\n",
    "    return thymio_pos, thymio_angle, thymio_visible, radius, scale_mm\n",
    "\n",
    "\n",
    "def convert_to_mm(y_axis_size, scale, coords_px):\n",
    "    return [coords_px[0]*scale, (y_axis_size-coords_px[1])*scale]\n",
    "\n",
    "def convert_to_px(y_axis_size, scale, coords_mm):\n",
    "    return [int(coords_mm[0]/scale), int(y_axis_size-coords_mm[1]/scale)]"
   ]
  },
  {
   "cell_type": "markdown",
   "metadata": {},
   "source": [
    "### Detecting the houses (targets)\n",
    "\n",
    "Targets are not defined as polygons but as points. The goal of the Thymio is to reach their centroids which we computed using the moments function from OpenCv. We also only consider the targets that are in the dilated map and outside of the dilated polygons."
   ]
  },
  {
   "cell_type": "code",
   "execution_count": null,
   "metadata": {},
   "outputs": [],
   "source": [
    "def cam_get_targets(frame, show_contour = False, show_center = False):\n",
    "    contours_red = get_color_contour(frame, \"red\")\n",
    "\n",
    "    target_list = []\n",
    "    for contour_red in contours_red:\n",
    "        area = cv.contourArea(contour_red)\n",
    "        if area > 1000:\n",
    "            M = cv.moments(contour_red)\n",
    "            if M['m00'] != 0:\n",
    "                cx = int(M['m10']/M['m00'])\n",
    "                cy = int(M['m01']/M['m00'])\n",
    "                target_list.append((cx,cy))\n",
    "            if show_contour:\n",
    "                cv.drawContours(frame, contour_red, -1, (0,0,255),3)\n",
    "            if show_center:\n",
    "                cv.circle(frame, (cx, cy), 7, (0,0,255), -1)\n",
    "\n",
    "    return target_list\n",
    "\n",
    "def reachable_targets(targets_list,dilated_map,dilated_obstacle_list):\n",
    "    for target in targets_list:\n",
    "        if not Point(target).within(dilated_map):\n",
    "            targets_list.remove(target)\n",
    "        else:\n",
    "            for x in dilated_obstacle_list:\n",
    "                 if Point(target).within(x):\n",
    "                    targets_list.remove(target)\n",
    "\n",
    "    return targets_list"
   ]
  },
  {
   "cell_type": "markdown",
   "metadata": {},
   "source": [
    "### Detecting the obstacles\n",
    "As for the map, we get all the contours, and we dilate them by the radius of the robot this time, in the exterior direction."
   ]
  },
  {
   "cell_type": "code",
   "execution_count": null,
   "metadata": {},
   "outputs": [],
   "source": [
    "def cam_get_obstacles(frame, radius, show_contour = False, show_polygone = False):\n",
    "    contours_green = get_color_contour(frame, \"green\")\n",
    "\n",
    "    area_obstacles = MultiPolygon()\n",
    "    dilated_obstacle_list = []\n",
    "    for contour_green in contours_green:\n",
    "        area = cv.contourArea(contour_green)\n",
    "        if area > 1000:\n",
    "            pts = np.squeeze(polygon(contour_green))\n",
    "            pol = Polygon(pts)\n",
    "            dilated_obstacle = pol.buffer(radius, join_style=2 ,single_sided=True)\n",
    "            dilated_obstacle_list.append(dilated_obstacle)\n",
    "            area_obstacles = area_obstacles.union(dilated_obstacle)\n",
    "            if show_contour:\n",
    "                cv.drawContours(frame, contour_green, -1, (0,255,0),3)\n",
    "            if show_polygone:\n",
    "                draw_polygone(frame, pts, \"green\")\n",
    "\n",
    "    obstacles_boundary = []\n",
    "\n",
    "    if type(area_obstacles) != Polygon:\n",
    "        for geom in area_obstacles.geoms:    \n",
    "            xo, yo = geom.exterior.xy\n",
    "            obstacles_boundary.append(zip(xo,yo))\n",
    "\n",
    "    obstacles_list = []\n",
    "    for obstacle in obstacles_boundary :\n",
    "        obstacles_list.append(list(obstacle))\n",
    "\n",
    "    return obstacles_list, dilated_obstacle_list"
   ]
  },
  {
   "cell_type": "markdown",
   "metadata": {},
   "source": [
    "### Visibility graph\n",
    "We decided to use a visibility graph, because it allows us to get the shortest path in Euclidean distance, and it is quite easy to implement since the camera can localize all the obstacles, targets, and Santo at the start. \n",
    "\n",
    "We used a dictionary to store, for each vertex ( Thymio and targets centroids, vertices of the polygon approximation of the obstacles), the points that are reachable by following a simple line on the map, checking if the line linking the two vertices is on the map and does not go through an obstacle. Using this visibility graph, we have been able to determine the path for which the Thymio covers the smallest distance possible while going to every target. Better solutions exist taking into account the computational time, but for our application, we didn't need to make the program faster so we sticked to the easiest solution which is effective.\n"
   ]
  },
  {
   "cell_type": "code",
   "execution_count": null,
   "metadata": {},
   "outputs": [],
   "source": [
    "def visible(a,b, polygon_obstacle, polygon_map):\n",
    "    visible = 1\n",
    "    line = LineString([a,b])\n",
    "    for x in polygon_obstacle:\n",
    "        within_obstacle = line.within(x)\n",
    "        crosses_obstacle = line.crosses(x)\n",
    "        if within_obstacle == True or crosses_obstacle == True:\n",
    "            visible = False     \n",
    "    in_map = polygon_map.contains(line)\n",
    "    if in_map == False:\n",
    "        visible = False\n",
    "    return visible\n",
    "\n",
    "def distance(a,b):\n",
    "    dist = np.linalg.norm(np.array(a)-np.array(b))\n",
    "    return(dist)    \n",
    "\n",
    "# Returns dictionnary containing for the key the index of the vertex of interest \n",
    "# and for the value, other vertices with distance that are valid paths for the robot\n",
    "def vis_graph(start,targets,obstacles,polygon_obstacle,polygon_map):\n",
    "    graph = {}\n",
    "    start_idx = 0\n",
    "    obstacles = [item for sublist in obstacles for item in sublist]\n",
    "    targets_idx_list = list(range(1,len(targets)+1))\n",
    "    vertices_with_rep = [start] + targets + obstacles\n",
    "    vertices = []\n",
    "    for i in vertices_with_rep : \n",
    "        if i not in vertices: \n",
    "            vertices.append(i)\n",
    "\n",
    "    for vtx1_idx, vtx1 in enumerate(vertices):\n",
    "        for vtx2_idx, vtx2 in enumerate(vertices):\n",
    "            if vtx1_idx != vtx2_idx:\n",
    "                if visible(vtx1,vtx2,polygon_obstacle,polygon_map)==1:\n",
    "                    if vtx1_idx in graph :\n",
    "                        graph[vtx1_idx].append([vtx2_idx,distance(vtx1,vtx2)])\n",
    "                    else:\n",
    "                        graph[vtx1_idx] = [(vtx2_idx,distance(vtx1,vtx2))]\n",
    "                else:\n",
    "                    if not(vtx1_idx in graph):\n",
    "                        graph[vtx1_idx] = []\n",
    "\n",
    "    return graph, start_idx, targets_idx_list, vertices"
   ]
  },
  {
   "cell_type": "markdown",
   "metadata": {},
   "source": [
    "### Results\n",
    "\n",
    "Let's visualize what we have just done! Here are some functions to draw on the frame everything we discussed."
   ]
  },
  {
   "cell_type": "code",
   "execution_count": null,
   "metadata": {},
   "outputs": [],
   "source": [
    "def draw_polygone(frame, polygone_points, color):\n",
    "    if color == \"white\":\n",
    "        color_RGB = (255,255,255)\n",
    "    elif color == \"green\":\n",
    "        color_RGB = (0,255,0)\n",
    "    elif color == \"blue\":\n",
    "        color_RGB = (255,0,0)\n",
    "\n",
    "    for i in range(len(polygone_points)-1):\n",
    "        cv.line(frame, polygone_points[i], polygone_points[i+1], color_RGB, 3)\n",
    "    cv.line(frame, polygone_points[i+1], polygone_points[0], color_RGB, 3)\n"
   ]
  },
  {
   "cell_type": "code",
   "execution_count": null,
   "metadata": {},
   "outputs": [],
   "source": [
    "def draw_analyze_frame(frame, show_options, dilated_obstacle_list, dilated_map, visibility_graph, vertices):\n",
    "    blurred_frame = cv.GaussianBlur(frame, (5,5), cv.BORDER_DEFAULT)\n",
    "\n",
    "    #show_option 0: show contours\n",
    "    #show_option 1: show estimated contours\n",
    "    _, map_contour = cam_get_bounded_frame(blurred_frame, show_options[0], show_options[1])\n",
    "    thymio_pos, thymio_angle, thymio_visible, thymio_radius, _ = cam_locate_thymio(blurred_frame, show_options[0], show_options[1])\n",
    "    thymio_state = [thymio_pos[0], thymio_pos[1], thymio_angle]\n",
    "\n",
    "    cam_get_targets(blurred_frame, show_options[0], show_options[1])\n",
    "    cam_get_obstacles(blurred_frame, thymio_radius, show_options[0], show_options[1])\n",
    "\n",
    "    #show_option 2: show dilated polygones\n",
    "    if show_options[2]:\n",
    "        for dilated_obstacle in dilated_obstacle_list:\n",
    "            x_obst, y_obst = dilated_obstacle.exterior.xy\n",
    "            dilated_obst_poly = list((int(point[0]),int(point[1])) for point in list(zip(x_obst, y_obst)))\n",
    "            draw_polygone(blurred_frame, dilated_obst_poly, \"green\")\n",
    "\n",
    "        x_map, y_map = dilated_map.exterior.xy\n",
    "        dilated_map_poly = list((int(point[0]),int(point[1])) for point in list(zip(x_map, y_map)))\n",
    "        draw_polygone(blurred_frame, dilated_map_poly, \"white\")\n",
    "\n",
    "    #show_option 3: show visibility graph\n",
    "    if show_options[3]:\n",
    "        for i in visibility_graph:\n",
    "            for j in visibility_graph[i]:\n",
    "                cv.line(blurred_frame, [int(vertices[i][0]), int(vertices[i][1])] , [int(vertices[j[0]][0]), int(vertices[j[0]][1])], (100,100,100), 2)\n",
    "                #print(vertices[i], vertices[j[0]])\n",
    "    return blurred_frame, thymio_state, thymio_visible"
   ]
  },
  {
   "cell_type": "markdown",
   "metadata": {},
   "source": [
    "Object_detection function calls a lot of the functions we previously explained. "
   ]
  },
  {
   "cell_type": "code",
   "execution_count": null,
   "metadata": {},
   "outputs": [],
   "source": [
    "def object_detection(frame):\n",
    "    #blur image to have less noise\n",
    "    blurred_frame = cv.GaussianBlur(frame, (5,5), cv.BORDER_DEFAULT)\n",
    "    #find the map boundaries\n",
    "    frame_limits, map_contour = cam_get_bounded_frame(blurred_frame)\n",
    "    #reduce the working frame to the boundaries\n",
    "    bounded_frame = blurred_frame[frame_limits[0]: frame_limits[1], frame_limits[2]: frame_limits[3]]\n",
    "    #locate the robot\n",
    "    thymio_pos, thymio_angle, thymio_visible, thymio_radius, scale_mm = cam_locate_thymio(bounded_frame)\n",
    "    thymio_state = [thymio_pos[0], thymio_pos[1], thymio_angle]\n",
    "    #reduce the boundaries so the whole robot stays inside when the center is on the \"dilated_map\"\n",
    "    map_contour_polygone, dilated_map = cam_get_contour(map_contour, thymio_radius)\n",
    "    #locate the targets\n",
    "    targets_list = cam_get_targets(bounded_frame)\n",
    "    #locate the obstacles\n",
    "    obstacles_list, dilated_obstacle_list  = cam_get_obstacles(bounded_frame, thymio_radius)\n",
    "    #select only reachable targets\n",
    "    targets_list = reachable_targets(targets_list,dilated_map,dilated_obstacle_list)\n",
    "\n",
    "\n",
    "    return thymio_state,targets_list,obstacles_list,dilated_obstacle_list,dilated_map, frame_limits, scale_mm"
   ]
  },
  {
   "cell_type": "code",
   "execution_count": null,
   "metadata": {},
   "outputs": [],
   "source": [
    "    show_contours = True\n",
    "    show_polygones = True\n",
    "    show_dilated_polygones = True\n",
    "    show_visibility_graph = True\n",
    "    show_option = [show_contours, show_polygones, show_dilated_polygones, show_visibility_graph]\n",
    "    \n",
    "    frame = cv.imread('Thymio_images/raw_map.jpg')\n",
    "    thymio_state,targets_list,obstacles_list,dilated_obstacle_list,dilated_map, frame_limits, convert_px_mm = object_detection(frame)\n",
    "    bounded_frame = frame[frame_limits[0]: frame_limits[1], frame_limits[2]: frame_limits[3]]\n",
    "    visibility_graph,start_idx,targets_idx_list,vertices = vis_graph([thymio_state[0], thymio_state[1]],targets_list,obstacles_list,dilated_obstacle_list,dilated_map)\n",
    "    modified_frame, thymio_state, thymio_visible = draw_analyze_frame(bounded_frame, show_option, dilated_obstacle_list, dilated_map, visibility_graph, vertices)\n",
    "    \n",
    "    modified_frame_rgb = cv.cvtColor(modified_frame, cv.COLOR_BGR2RGB)\n",
    "    \n",
    "    %matplotlib inline\n",
    "    plt.rcParams['figure.figsize'] = [26, 13]\n",
    "    plt.imshow(modified_frame_rgb)\n",
    "    plt.show()\n",
    "    "
   ]
  },
  {
   "cell_type": "code",
   "execution_count": null,
   "metadata": {},
   "outputs": [],
   "source": []
  },
  {
   "cell_type": "markdown",
   "metadata": {},
   "source": [
    "# Path planning\n",
    "The goal of the path planning is to find the shortest path for Santo to travel to all houses. It takes as input the visibility graph of the map, and returns the optimal path, which is a list of coordinates for Santo to follow. This problem is divided in 3 parts:\n",
    "* Simplifiying the graph\n",
    "* Solving a Travelling Salesman Problem\n",
    "* Reconstructing the optimal path\n",
    "\n",
    "Let's see how it works with an example:\n",
    "\n",
    "![title](pictures/vis_graph.png)"
   ]
  },
  {
   "cell_type": "markdown",
   "metadata": {},
   "source": [
    "### Simplifying the graph\n",
    "\n",
    "We want to simplify the graph by only keeping the indices of Santo and of the targets. We also want all of them to be connected. To do that, we will apply the dijkstra algorithm multiple times, to find the distance (and the path, used later) between each pair of points of interest (here points of interest are the start point and the target points).\n",
    "\n",
    "For the example above, we take a visibility graph where the start index is 4, and the targets indices are 0 and 3. We want the distance between the vertices 4 and 0, 4 and 3, 0 and 3."
   ]
  },
  {
   "cell_type": "markdown",
   "metadata": {},
   "source": [
    "The function \"create_distance_path_matrix\" stores this information in matrices:\n",
    "\n",
    "Input:\n",
    "* Visibility graph\n",
    "* Start index\n",
    "* Target indices\n",
    "\n",
    "Output:\n",
    "* Matrix storing the distance between all points of interest\n",
    "* Matrix storing the path between all points of interest\n",
    "\n",
    "We can divide by two the number of calculations if we use the fact that the distance from index \"x\" to \"y\" is the same as from \"y\" to \"x\", and that the path is just reversed."
   ]
  },
  {
   "cell_type": "code",
   "execution_count": null,
   "metadata": {},
   "outputs": [],
   "source": [
    "def create_distance_path_matrix(visibility_graph,start_idx,targets_idx_list):\n",
    "    #we treat start as an objective, from which we start\n",
    "    targets_idx_list.insert(0, start_idx)\n",
    "\n",
    "    nb_interest_point = len(targets_idx_list)\n",
    "    distance_matrix = np.zeros((nb_interest_point, nb_interest_point))\n",
    "    path_matrix = np.zeros((nb_interest_point, nb_interest_point), dtype=object)\n",
    "    for i in range(nb_interest_point):\n",
    "        for j in range(nb_interest_point):\n",
    "            if i==j:\n",
    "                distance_matrix[i][j] = 0\n",
    "                path_matrix[i][j] = [[targets_idx_list[i]]]\n",
    "            elif i > j:\n",
    "                distance_matrix[i][j], path_matrix[i][j] = dijkstra_aglorithm(targets_idx_list[i], targets_idx_list[j], visibility_graph)\n",
    "                distance_matrix[j][i] = distance_matrix[i][j]\n",
    "                path_matrix[j][i] = path_matrix[i][j][::-1]\n",
    "\n",
    "\n",
    "    return distance_matrix, path_matrix"
   ]
  },
  {
   "cell_type": "markdown",
   "metadata": {},
   "source": [
    "From the example above, the output of the function \"create_distance_path_matrix\" would be:\n",
    "\n",
    "![title](pictures/path_matrices.png)\n",
    "\n",
    "so the simplified graph can be represented as:\n",
    "\n",
    "![title](pictures/simple_graph.png)"
   ]
  },
  {
   "cell_type": "markdown",
   "metadata": {},
   "source": [
    "### Solving a Travelling Salesman Problem\n",
    "The next part is to solve a problem similar to the Travelling Salesman Problem, except that it Santo doesn't need to return to the starting point. We figured that in our project, we will most likely have 3 or 4 targets, so we don't need a fancy algorithm and can afford to test all possible solutions. In fact, even with 8 targets we would need to solve 8! = 40'320 solutions which isn't that much for a modern computer.\n",
    "\n",
    "We also notice that because all points are connceted to each other, we don't need a graph representation and can just use the distance matrix calulated in the \"Simplifying the graph\" part."
   ]
  },
  {
   "cell_type": "markdown",
   "metadata": {},
   "source": [
    "The \"shortest_path\" function is a recursive function, and has the following signature:\n",
    "\n",
    "Input:\n",
    "* The starting index\n",
    "* The list of already visited indices (this list only contains the starting index on the first call)\n",
    "* The distance matrix calulated previously\n",
    "\n",
    "Output:\n",
    "* The shortest distance to go through all indices that aren't yet visited\n",
    "* The index order to follow to have this shortest distance"
   ]
  },
  {
   "cell_type": "code",
   "execution_count": null,
   "metadata": {},
   "outputs": [],
   "source": [
    "def shortest_path(start_local_idx, visited_idx_list, distance_array):\n",
    "    nb_points = np.size(distance_array,0) #number of points to go through, + 1 for the starting point\n",
    "\n",
    "    distance = np.Inf #value to optimize\n",
    "    idx_list = np.zeros(np.size(distance_array,0)) #saves optimal path\n",
    "\n",
    "    if np.size(visited_idx_list) == nb_points : #end of recursion, all points have been passed through\n",
    "        return 0, np.zeros(np.size(distance_array,0))\n",
    "\n",
    "    temp_distance = 0\n",
    "    temp_idx = np.zeros(np.size(distance_array,0))\n",
    "\n",
    "    for i in range(nb_points):\n",
    "        if i in visited_idx_list : #tries all points that haven't been visited\n",
    "            continue\n",
    "        temp_distance, temp_idx = shortest_path(i, np.append(visited_idx_list, i), distance_array)\n",
    "        temp_distance += distance_array[start_local_idx][i]\n",
    "        \n",
    "        if temp_distance < distance : #if found a better way, updates its optimal path and value\n",
    "            distance = temp_distance\n",
    "            idx_list = temp_idx\n",
    "            idx_list[visited_idx_list.size] = i\n",
    "\n",
    "    return (distance, idx_list)"
   ]
  },
  {
   "cell_type": "markdown",
   "metadata": {},
   "source": [
    "From the example above, as we only have 2 targets, we need to test 2! = 2 possibilities:\n",
    "* The order 4-0-3 which from the distance matrix would give dist(4,0) + dist(0,3) = 4 + 3 = 7\n",
    "* The order 4-3-0 which from the distance matrix would give dist(4,3) + dist(3,0) = 5 + 3 = 8\n",
    "\n",
    "As the first order 4-0-3 gives a shorter distance, we remember this sequence."
   ]
  },
  {
   "cell_type": "markdown",
   "metadata": {},
   "source": [
    "### Reconstructing the optimal path\n",
    "Now that we know the order in which to go to the targets, we reconstruct the optimal path."
   ]
  },
  {
   "cell_type": "markdown",
   "metadata": {},
   "source": [
    "The signature of the functions is the following:\n",
    "\n",
    "Input:\n",
    "* The path matrix calculated in the \"create_distance_path_matrix\" function\n",
    "* The targets index order given by the \"shortest_path\" function\n",
    "* Vertices array which gives the coordinates based on the vertex index\n",
    "\n",
    "Output:\n",
    "* The list of coordinates to follow to go through all targets in the shortest path"
   ]
  },
  {
   "cell_type": "code",
   "execution_count": null,
   "metadata": {},
   "outputs": [],
   "source": [
    "def reconstruct_optimal_path(path_array, targets_idx_order, vertices):\n",
    "    optimal_path = []\n",
    "    for i in range(len(targets_idx_order)-1):\n",
    "        for j in range(len(path_array[int(targets_idx_order[i])][int(targets_idx_order[i+1])])): #use the path matrix to reconstruct\n",
    "            if i != 0 and j == 0: #to avoid repetition of the same index when joining paths, as the end index of a segement is the start index of the following\n",
    "                continue\n",
    "            optimal_path.append(vertices[path_array[int(targets_idx_order[i])][int(targets_idx_order[i+1])][j]]) #use vertices array which gives coordinates based on index\n",
    "    return optimal_path"
   ]
  },
  {
   "cell_type": "markdown",
   "metadata": {},
   "source": [
    "In the example above, we know that the target order is 4-0-3, so we retrieve the path to travel 4-0 then 0-3. From the Path Matrix, it is [4,1,0] and [0,2,3], so by following the indices [4,1,0,2,3] in the visibility graph, we have the shortest path."
   ]
  },
  {
   "cell_type": "markdown",
   "metadata": {},
   "source": [
    "### Filtering <a class=\"anchor\" id=\"filtering\"></a>\n",
    "#### General Filtering <a class=\"anchor\" id=\"genfiltering\"></a>\n",
    "The goal of having a filter in such a project is to take into account the different uncertainties when trying to localize the robot. To \"localize\" the robot means knowing its state, which we defined as its position, angle, velocity and angular velocity with respect to a given reference point.\n",
    "\n",
    "There are multiple ways to gather information about the robot's position with the chosen configuration.\n",
    "- Using the informations given by the overhead camera\n",
    "- Using the odometry and the robot's speed\n",
    "- Using the accelerometer\n",
    "\n",
    "We chose to use the informations given by the overhead camera to derive th robot's position relative to the bottom left corner of the image and its angle relative to the x and y axis of said image.\n",
    "\n",
    "#### Choosing a filter <a class=\"anchor\" id=\"filterchoice\"></a>\n",
    "The chosen filter has to be bayesian. It also should be able to merge all sensors' data to compute the correct robot's position.\n",
    "As seen during the course, there are multiple bayesian filters following the given criteria. The ones that we explored were: \n",
    "\n",
    "- A particle filter. It uses the environment's features to determine a probability distribution of the position of the robot. It requires good sensor's inputs.\n",
    "- A Kalman filter. A mathematical model is derived to predict the robot's state. It is then updated using sensor's measurements.\n",
    "\n",
    "We chose the Kalman filter as it seemed to be the simplest one. Placing the Thymio in a mainly 2D plane didn't allow us to use the infrared sensors for the particle filter. Moreover, the Kalman filter felt more interesting as it is applied in many domains to which students are often confronted."
   ]
  },
  {
   "cell_type": "markdown",
   "metadata": {},
   "source": [
    "#### Mathematical model <a class=\"anchor\" id=\"mathmodel\"></a>\n",
    "The state represents the informations we want to know about the Thymio.\n",
    "\n",
    "$$\\hat{\\mu} = \n",
    "\\begin{bmatrix}\n",
    "x\\\\\n",
    "y\\\\\n",
    "\\dot{x}\\\\\n",
    "\\dot{y}\\\\\n",
    "\\theta\\\\\n",
    "\\dot{\\theta}\\\\\n",
    "\\end{bmatrix}\n",
    "= \n",
    "\\begin{bmatrix}\n",
    "\\mu_{0}\\\\\n",
    "\\mu_{1}\\\\\n",
    "\\mu_{2}\\\\\n",
    "\\mu_{3}\\\\\n",
    "\\mu_{4}\\\\\n",
    "\\mu_{5}\\\\\n",
    "\\end{bmatrix}$$\n",
    "\n",
    "Where:\n",
    "- x is the x-coordinate of the robot relative to the bottom left corner of the camera image\n",
    "- y is the y-coordinate of the robot relative to the bottom left corner of the camera image\n",
    "- $\\dot{x}$ is the speed of the robot in the x direction\n",
    "- $\\dot{y}$ is the speed of the robot in the y direction\n",
    "- $\\theta$ is the robot's angle relative to the image's x and y axis\n",
    "- $\\dot{\\theta}$ is the angular velocity of the robot\n",
    "\n",
    "The numbers $\\mu_{0}$ to $\\mu_{5}$ were attributed to ease the implementation in the code.\n",
    "\n",
    "![Thymio](pictures/Thymio.png)\n",
    "\n",
    "The robot receive commands for the left and right motors from the computer. Those two variables are therefore chosen as inputs in the Kalman filter:\n",
    "\n",
    "$$u = \\begin{bmatrix}\n",
    "u_{1}\\\\\n",
    "u_{2}\\\\\n",
    "\\end{bmatrix}\n",
    "$$\n",
    "\n",
    "After choosing the state variables, it is possible to define the mathematical model for the filter.\n",
    "The model is not linear so an extended Kalman filter is used. It's general representation is given as follows:\n",
    "\n",
    "$$\n",
    "\\begin{align}\n",
    "    \\left. \\begin{array}{l}\n",
    "        \\bar{\\mu_{t}} = g(u_{t}, \\mu_{t-1})\\\\\n",
    "        \\bar{\\Sigma_{t}} = G_{t} \\Sigma_{t-1} G_{t} + R_{t}\\\\\n",
    "    \\end{array}\\right\\} Prediction\\, step\\\\\n",
    "    \\\\\n",
    "    \\left. \\begin{array}{l}\n",
    "        K_{t} = \\bar{\\Sigma_{t}} H_{t}^T (H_{t} \\bar{\\Sigma_{t}} H_{t}^T + Q_{t})^{-1}\\\\\n",
    "    \\end{array}\\right\\} Gain\\, computation\\\\\n",
    "    \\\\\n",
    "    \\left. \\begin{array}{l}\n",
    "        \\mu_{t} = \\bar{\\mu_{t}} + K_{t} (y_{t} - h(\\mu_{t})\\\\\n",
    "        \\Sigma_{t} = (I - K_{t} H_{t}) \\bar{\\Sigma_{t}}\\\\\n",
    "    \\end{array}\\right\\} Update\\, step\n",
    "\\end{align}\n",
    "$$\n",
    "\n",
    "The motion model $g$ is purely base on the robot's state and on the inputs.\n",
    "\n",
    "$$g(u_{t}, \\mu_{t-1}) = \n",
    "\\begin{bmatrix}\n",
    "\\mu_{0} + \\frac{T_{1}}{2} \\cos(\\mu_{4}) [u_{1} + u_{2}]\\\\\n",
    "\\mu_{1} + \\frac{T_{1}}{2} \\sin(\\mu_{4}) [u_{1} + u_{2}]\\\\\n",
    "\\frac{1}{2} \\cos(\\mu_{4}) [u_{1} + u_{2}]\\\\\n",
    "\\frac{1}{2} \\sin(\\mu_{4}) [u_{1} + u_{2}]\\\\\n",
    "\\mu_{4} + \\frac{T_{1}}{2r} [u_{1} - u_{2}]\\\\\n",
    "\\frac{1}{2r} [u_{1} - u_{2}]\\\\\n",
    "\\end{bmatrix}$$\n",
    "\n",
    "With $T_{1}$ the time interval between two iterations of the filter and $r$ the radius of the Thymio robot.\n",
    "\n"
   ]
  },
  {
   "cell_type": "code",
   "execution_count": 8,
   "metadata": {},
   "outputs": [],
   "source": [
    "def motModel(x, u, T1, r):\n",
    "    g = np.array([0., 0., 0., 0., 0., 0.]) #just initializing a 2D array\n",
    "    g[0] = (x[0] + T1*math.cos(x[4])*(u[0] + u[1])/2)\n",
    "    g[1] = x[1] + T1*math.sin(x[4])*(u[0] + u[1])/2\n",
    "    g[2] = math.cos(x[4])*(u[0] + u[1])/2\n",
    "    g[3] = math.sin(x[4])*(u[0] + u[1])/2\n",
    "    g[4] = x[4] + T1*(u[0] - u[1]) / (2*r)\n",
    "    g[5] = (u[0] - u[1]) / (2*r)\n",
    "    return "
   ]
  },
  {
   "cell_type": "markdown",
   "metadata": {},
   "source": [
    "It is possible to linearize this function using Taylor's expansion:\n",
    "\n",
    "$$f(x,y) \\approx {f(a,b) + \\frac{\\partial f(x,y)}{\\partial x}\\bigg|_{(a,b)}(x-a) + \\frac{\\partial f(x,y)}{\\partial y}\\bigg|_{(a,b)}(y-b)}$$\n",
    "\n",
    "Computing the jacobian, we get the matrix $G$:\n",
    "\n",
    "$$G = \n",
    "\\begin{bmatrix}\n",
    "1 & 0 & 0 & 0 & -\\frac{T_{1}}{2}\\sin(u_{1}+u_{2}) & 0\\\\\n",
    "0 & 1 & 0 & 0 & \\frac{T_{1}}{2}\\cos(u_{1}+u_{2}) & 0\\\\\n",
    "0 & 0 & 0 & 0 & -\\frac{1}{2}\\sin(u_{1}+u_{2}) & 0\\\\\n",
    "0 & 0 & 0 & 0 & \\frac{1}{2}\\cos(u_{1}+u_{2}) & 0\\\\\n",
    "0 & 0 & 0 & 0 & 1 & 0\\\\\n",
    "0 & 0 & 0 & 0 & 0 & 0\\\\\n",
    "\\end{bmatrix}$$\n",
    "\n"
   ]
  },
  {
   "cell_type": "code",
   "execution_count": 9,
   "metadata": {},
   "outputs": [],
   "source": [
    "def Gjacobian(theta, m1 ,m2, T1, r):\n",
    "    G = np.array([[0.,0.,0.,0.,0.,0.],[0.,0.,0.,0.,0.,0.],[0.,0.,0.,0.,0.,0.],[0.,0.,0.,0.,0.,0.],\n",
    "                  [0.,0.,0.,0.,0.,0.],[0.,0.,0.,0.,0.,0.]])\n",
    "    G[0,0] = 1\n",
    "    G[1,1] = 1\n",
    "    G[0,4] = -T1*math.sin(theta)*(m1+m2)/2\n",
    "    G[1,4] = T1*math.cos(theta)*(m1+m2)/2\n",
    "    G[2,4] = -math.sin(theta)*(m1+m2)/2\n",
    "    G[3,4] = math.cos(theta)*(m1+m2)/2\n",
    "    G[4,4] = 1\n",
    "    return G"
   ]
  },
  {
   "cell_type": "markdown",
   "metadata": {},
   "source": [
    "The measurement model represents the relation between the measured values and the state model of the robot. For simplicity, our group decided to use only the measurements of the camera to derive the x and y position of the robot as well as its angle. \n",
    "\n",
    "$$y_{t}(\\mu_{t}) = \n",
    "\\begin{bmatrix}\n",
    "camX\\\\\n",
    "camY\\\\\n",
    "cam\\theta\\\\\n",
    "\\end{bmatrix}$$\n",
    "\n",
    "The measurement model $h$ is linear and is directly given:\n",
    "\n",
    "$$h(\\mu_{t}) = y_{t}(\\mu_{t})$$\n",
    "\n",
    "The matrix $H$ is the jacobian of $h$:\n",
    "\n",
    "$$H = \n",
    "\\begin{bmatrix}\n",
    "1 & 0 & 0 & 0 & 0 & 0\\\\\n",
    "0 & 1 & 0 & 0 & 0 & 0\\\\\n",
    "0 & 0 & 0 & 0 & 1 & 0\\\\\n",
    "\\end{bmatrix}$$"
   ]
  },
  {
   "cell_type": "code",
   "execution_count": 10,
   "metadata": {},
   "outputs": [],
   "source": [
    "def measModel(x):\n",
    "    h = np.array([0.,0.,0.])\n",
    "    h[0] = x[0]\n",
    "    h[1] = x[1]\n",
    "    h[2] = x[4]\n",
    "    return h\n",
    "\n",
    "def Hjacobian(theta):\n",
    "    H = np.array([[0.,0.,0.,0.,0.,0.],[0.,0.,0.,0.,0.,0.],[0.,0.,0.,0.,0.,0.]])\n",
    "    H[0,0] = 1\n",
    "    H[1,1] = 1\n",
    "    H[2,4] = 1\n",
    "    return H"
   ]
  },
  {
   "cell_type": "markdown",
   "metadata": {},
   "source": [
    "The camera outputs an x = 0 and y = 0 position for the robot when it is hidden. This induced errors in the state estimation. To mitigate this problem, it was chosen not to take measurements into account when the camera doesn't detect any Thymio. This is done by setting the measurement model $h = 0$ and its jacobian $H = 0$."
   ]
  },
  {
   "cell_type": "code",
   "execution_count": 11,
   "metadata": {},
   "outputs": [],
   "source": [
    "def measModel(x,camstate):\n",
    "    h = np.array([0.,0.,0.])\n",
    "    h[0] = x[0]\n",
    "    h[1] = x[1]\n",
    "    h[2] = x[4]\n",
    "    if camState == False:\n",
    "        h[0] = 0\n",
    "        h[1] = 0\n",
    "        h[2] = 0\n",
    "    return h\n",
    "\n",
    "def Hjacobian(theta, camState):\n",
    "    H = np.array([[0.,0.,0.,0.,0.,0.],[0.,0.,0.,0.,0.,0.],[0.,0.,0.,0.,0.,0.]])\n",
    "    H[0,0] = 1\n",
    "    H[1,1] = 1\n",
    "    H[2,4] = 1\n",
    "    if camState == False:\n",
    "        H[0,0] = 0\n",
    "        H[1,1] = 0\n",
    "        H[2,4] = 0\n",
    "    return H"
   ]
  },
  {
   "cell_type": "markdown",
   "metadata": {},
   "source": [
    "#### Filter's initialization <a class=\"anchor\" id=\"filterinit\"></a>\n",
    "Upon starting the programm, multiple values must be initialized in order for the Kalman filter to perform correctly.\n",
    "\n",
    "The first one is the speed conversion constant."
   ]
  },
  {
   "cell_type": "code",
   "execution_count": 2,
   "metadata": {},
   "outputs": [],
   "source": [
    "#Convert speed commands in mm/s\n",
    "speed_conv = 0.36"
   ]
  },
  {
   "cell_type": "markdown",
   "metadata": {},
   "source": [
    "This value depends on the robot used for the experiment. It might also vary depending on the surface the Thymio is rolling on as it might slip during its movements. It is found experimentally by doing some calibration steps.\n",
    "\n",
    "The next value to initalize is the Thymio's radius, or more precisely the middle distance between the two wheels."
   ]
  },
  {
   "cell_type": "code",
   "execution_count": 3,
   "metadata": {},
   "outputs": [],
   "source": [
    "#Thymio's radius\n",
    "r = 47 #mm"
   ]
  },
  {
   "cell_type": "markdown",
   "metadata": {},
   "source": [
    "The incertitude matrices $R$ and $Q$ are found experimentally. They are tuned doing testing so the robot's state estimation is as precise as possible. In our case, the tuned matrices are given below:"
   ]
  },
  {
   "cell_type": "code",
   "execution_count": 6,
   "metadata": {},
   "outputs": [],
   "source": [
    "#uncertainty on state\n",
    "R = np.array([[0.01,0.,0.,0.,0.,0.],[0.,0.01,0.,0.,0.,0.],[0.,0.,0.01,0.,0.,0.],[0.,0.,0.,0.01,0.,0.],\n",
    "              [0.,0.,0.,0.,0.00001,0.],[0.,0.,0.,0.,0.,0.1]])\n",
    "#uncertainty on measurement\n",
    "Q = np.array([[0.01,0.,0.],[0.,0.01,0.],[0.,0.,0.01]])"
   ]
  },
  {
   "cell_type": "markdown",
   "metadata": {},
   "source": [
    "Finally, the Thymio's first state initialization is done using the first frame of the camera when the programm is launched. It allows the Kalman to start with a relatively precise position and angle for the robot."
   ]
  },
  {
   "cell_type": "markdown",
   "metadata": {},
   "source": [
    "#### Testing <a class=\"anchor\" id=\"testing\"></a>\n",
    "The Kalman filter was first tested using simulated data, meaning the fake measures representing the Thymio going in straight lines with sharp turn were inputed in the filter.\n",
    "\n",
    "The second testing method was not relying on the camera measures as the camera setup wasn't available yet. The Thymio's movements were solely based on the motion model $g$.\n",
    "\n",
    "Then, tests were made on the final setup. It allowed to tune the incertitude matrices and the speed conversion constant."
   ]
  },
  {
   "cell_type": "markdown",
   "metadata": {},
   "source": [
    "#### Conclusion on filtering <a class=\"anchor\" id=\"filterconcl\"></a>\n",
    "The extended Kalman filter satifies our needs for this project. It allows to merge the camera measurements with a model of the robot's motion using the motors' commands to compute an estimation of the Thymio's position, speed and angle."
   ]
  },
  {
   "cell_type": "code",
   "execution_count": null,
   "metadata": {},
   "outputs": [],
   "source": []
  },
  {
   "cell_type": "markdown",
   "metadata": {},
   "source": [
    "## Navigation <a class=\"anchor\" id=\"navigation\"></a>\n",
    "### Global navigation <a class=\"anchor\" id=\"globalnavigation\"></a>\n",
    "Everything about the global navigation is done on the computer. Only the motors commands are sent to the Thymio using the tdmclient library.\n",
    "\n",
    "### Functioning <a class=\"anchor\" id=\"functioning\">\n",
    "The Thymio has two states, moving forward and turning on itself.\n",
    "\n",
    "#### Turning on itself <a class=\"anchor\" id=\"turn\">\n",
    "    \n",
    "When the Thymio starts its path, it assures to not move forward as long as its angle is not close to the good one. It is the same behaviour when the Thymio reaches one of its objectif. One objectif can be either a house (in red) or an edge of a dilated obstacle (in green). The objectif is considered to be reached when the Thymio is in a circular zone around the objectif point. This avoids that the Thymio just go throught its objectif without noticing it and get lost. To ensure that the Thymio reaches the good angle easily, its rotation speed decrease when it approaches the right angle following the model on the graph below (Figure X)\n",
    "    \n",
    "#### Moving forward <a class=\"anchor\" id=\"move\">\n",
    "Whilst the Thymio is between two of its objectifs, it has to follow the straightest line possible. To keep it on good track, a PD regulator is used. This ensure that the Thymio will not go too far of its path. Finally, when the Thymio reaches its final objectif, it stops and do not move anymore."
   ]
  },
  {
   "cell_type": "markdown",
   "metadata": {},
   "source": [
    "Below is the code of the main loop of the navigation which was precedently explained in the \"Functioning\" part."
   ]
  },
  {
   "cell_type": "code",
   "execution_count": null,
   "metadata": {},
   "outputs": [],
   "source": [
    "def navigation(pos_r, angle_r, obj_list, prev_err_pos, T, objectif_number, turn):\n",
    "    if objectif_number==len(obj_list)-1 :\n",
    "        motors=np.array([0,0])\n",
    "        turn = False\n",
    "        return motors, 0, objectif_number, turn\n",
    "    else:\n",
    "        angle_r=angle_r%(np.pi*2)\n",
    "        \n",
    "        dep, obj=next_obj(obj_list, objectif_number)\n",
    "        err_pos=error(pos_r, dep, obj)\n",
    "\n",
    "        if not turn:    \n",
    "            motors=motors_corr(prev_err_pos, err_pos, dep, obj, pos_r, T)\n",
    "            reached, objectif_number, turn=reach_obj(pos_r, obj, objectif_number, turn)\n",
    "            if reached :\n",
    "                dep, obj=next_obj(obj_list, objectif_number)\n",
    "                motors, turn = start_angle(angle_r, dep, obj, turn)\n",
    "        else:\n",
    "            motors,turn = start_angle(angle_r, dep, obj, turn)\n",
    "\n",
    "\n",
    "    return motors, err_pos, objectif_number, turn"
   ]
  },
  {
   "attachments": {
    "schemaSPEED.PNG": {
     "image/png": "[encoded data removed]"
    }
   },
   "cell_type": "markdown",
   "metadata": {},
   "source": [
    "![schemaSPEED.PNG](attachment:schemaSPEED.PNG)"
   ]
  },
  {
   "cell_type": "markdown",
   "metadata": {},
   "source": [
    "Figure X Speed representation when the error of angles go to zero"
   ]
  },
  {
   "cell_type": "markdown",
   "metadata": {},
   "source": [
    "The code below is the implementation of the graph on figure X"
   ]
  },
  {
   "cell_type": "code",
   "execution_count": null,
   "metadata": {},
   "outputs": [],
   "source": [
    "#When an objectif is reached, the robot turn on itself until it reaches the good angle.\n",
    "def start_angle(angle_r, dep, obj, turn):\n",
    "    angle_dep_obj = angle(dep, obj)\n",
    "    error_angle = angle_err(angle_r, angle_dep_obj)\n",
    "    if abs(error_angle) <= THRESHOLD_ANGLE:\n",
    "        #small error, goes on        \n",
    "        turn=False\n",
    "        motors=np.array([SPEED,SPEED])\n",
    "    else:\n",
    "        if optimal_side(angle_r, dep, obj):\n",
    "            #turns left\n",
    "            motors=np.array([-SPEED,SPEED])\n",
    "            if abs(error_angle)<SLOWDOWN_ANGLE:\n",
    "                motors=np.array([int(-SPEED*abs(error_angle)/SLOWDOWN_ANGLE),int(SPEED*abs(error_angle)/SLOWDOWN_ANGLE)])\n",
    "            \n",
    "        else:\n",
    "            #turns right\n",
    "            motors=np.array([SPEED,-SPEED])\n",
    "            if abs(error_angle)<SLOWDOWN_ANGLE:\n",
    "                motors=np.array([int(SPEED*abs(error_angle)/SLOWDOWN_ANGLE),int(-SPEED*abs(error_angle)/SLOWDOWN_ANGLE)])\n",
    "                \n",
    "        turn=True\n",
    "    return motors, turn"
   ]
  },
  {
   "cell_type": "markdown",
   "metadata": {},
   "source": [
    "### Local navigation <a class=\"anchor\" id=\"localnavigation\">\n",
    "The local navigation is directly done on the Thymio and has a higher priority than the commands sent by the computer. It is used to avoid the obstacle on Thymio's path. When the front proximity sensors detect an obstacle, the Thymio will turn according to the value of the sensors until it does not detect the obstacle anymore. After that, the Thymio will continue to move forward for a short time to avoid it to go back in the obstacle because of the PD regulator.\n",
    "Limitations : If the obstacle is really in the center of the way of the Thymio, it will turn and go too far of its way so that the regulator will not be able to bring the Thymio back on its path."
   ]
  },
  {
   "cell_type": "code",
   "execution_count": null,
   "metadata": {},
   "outputs": [],
   "source": [
    "import tdmclient.notebook\n",
    "import numpy as np\n",
    "await tdmclient.notebook.start()"
   ]
  },
  {
   "cell_type": "code",
   "execution_count": null,
   "metadata": {},
   "outputs": [],
   "source": [
    "%%run_python\n",
    "timer_period[0] = 10  # 10ms sampling time\n",
    "timer=0\n",
    "@onevent \n",
    "def timer0():\n",
    "    global prox_horizontal, motor_left_target, motor_right_target, timer\n",
    "    SPEED=100\n",
    "    PROX_FACTOR=80\n",
    "    THRESHOLD_PROX=50\n",
    "    if prox_horizontal[0]>THRESHOLD_PROX or prox_horizontal[1]>THRESHOLD_PROX:\n",
    "        #Should turn right\n",
    "        motor_left_target=(SPEED+prox_horizontal[0]//PROX_FACTOR+prox_horizontal[1]//PROX_FACTOR)\n",
    "        motor_right_target=(SPEED-prox_horizontal[0]//PROX_FACTOR-prox_horizontal[1]//PROX_FACTOR)\n",
    "        timer=200\n",
    "    elif prox_horizontal[4]>THRESHOLD_PROX :\n",
    "        #Should turn left\n",
    "        motor_left_target=(SPEED-prox_horizontal[4]//PROX_FACTOR-prox_horizontal[3]//PROX_FACTOR)\n",
    "        motor_right_target=(SPEED+prox_horizontal[4]//PROX_FACTOR+prox_horizontal[3]//PROX_FACTOR)\n",
    "        timer=200\n",
    "    elif prox_horizontal[3]>THRESHOLD_PROX:\n",
    "        #Should turn left\n",
    "        motor_left_target=(SPEED-prox_horizontal[4]//PROX_FACTOR-prox_horizontal[3]//PROX_FACTOR)\n",
    "        motor_right_target=(SPEED+prox_horizontal[4]//PROX_FACTOR+prox_horizontal[3]//PROX_FACTOR)\n",
    "        timer=200\n",
    "    else:\n",
    "        if timer>0:\n",
    "            timer=timer-1\n",
    "            motor_left_target=SPEED\n",
    "            motor_right_target=SPEED\n",
    "        else:\n",
    "            timer=0\n",
    "    \n",
    "@onevent\n",
    "def button_center():\n",
    "    global motor_left_target, motor_right_target\n",
    "    motor_left_target=0\n",
    "    motor_right_target=0"
   ]
  },
  {
   "cell_type": "code",
   "execution_count": null,
   "metadata": {},
   "outputs": [],
   "source": [
    "await tdmclient.notebook.stop()"
   ]
  },
  {
   "cell_type": "markdown",
   "metadata": {},
   "source": [
    "### Conclusion\n",
    "\n",
    "Combining all the modules helped Santo to save Christmas ! Just run the cell below to see the result !"
   ]
  },
  {
   "cell_type": "markdown",
   "metadata": {},
   "source": [
    "### Sources :\n",
    "[1] Caleiro, P. M. R., Neves, A. J. R., & Pinho, A. J. (2007). Color-spaces and color segmentation for real-time object recognition in robotic applications. 4, 6.\n",
    "\n",
    "[2] Tracking white color using python opencv. (n.d.). NewbeDEV. Retrieved December 9, 2021, from https://newbedev.com\n",
    "\n",
    "[3] The Shapely User Manual—Shapely 1.8.0 documentation. (n.d.). Retrieved December 9, 2021, from https://shapely.readthedocs.io/en/stable/manual.html"
   ]
  },
  {
   "cell_type": "code",
   "execution_count": null,
   "metadata": {},
   "outputs": [],
   "source": []
  }
 ],
 "metadata": {
  "kernelspec": {
   "display_name": "Python 3 (ipykernel)",
   "language": "python",
   "name": "python3"
  },
  "language_info": {
   "codemirror_mode": {
    "name": "ipython",
    "version": 3
   },
   "file_extension": ".py",
   "mimetype": "text/x-python",
   "name": "python",
   "nbconvert_exporter": "python",
   "pygments_lexer": "ipython3",
   "version": "3.9.7"
  }
 },
 "nbformat": 4,
 "nbformat_minor": 2
}
