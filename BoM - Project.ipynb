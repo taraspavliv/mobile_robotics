{
 "cells": [
  {
   "cell_type": "markdown",
   "metadata": {},
   "source": [
    "MICRO-452 Basics of mobile robotics\n",
    "\n",
    "Project Report\n",
    "\n"
   ]
  },
  {
   "cell_type": "markdown",
   "metadata": {},
   "source": [
    "### Table of Contents\n",
    "\n",
    "* [Introduction](#introduction)\n",
    "* [Vision](#vision)\n",
    "    * [Section 2.1](#section_2_1)\n",
    "    * [Section 2.2](#section_2_2)\n",
    "* [Global Navigation](#gnavigation)\n",
    "    * [dfjalk](#dflsak)\n",
    "* [Filtering](#filtering)\n",
    "    * [General, filtering](#genfiltering)\n",
    "    * [Choosing a filter](#filterchoice)\n",
    "* [Local Navigation](#lnavigation)"
   ]
  },
  {
   "cell_type": "markdown",
   "metadata": {},
   "source": [
    "### Introduction <a class=\"anchor\" id=\"introduction\"></a>\n",
    "The present project takes place in the Basics of mobile robotics course. The goal is to programm a mobile Thymio robot to perform a chosen task. The programm must use computer vision, global navigation, local navigation and filtering to determine the robot's position and make it achieve its objectives.\n",
    "\n",
    "We decided to programm Santo, an unfortunately blue santa that unfortunately has no gifts but is dedicated to its job of visiting all the houses it can.\n",
    "\n",
    "The programm uses an overhead camera to detect the different obstacles, the houses and Santo's position. A global navigation module allows Santo to do some path planning to reach every target. Finally, a Kalman filter using the robot's position from the camera and odometry allows the Thymio to know and correct its position in real time.\n"
   ]
  },
  {
   "cell_type": "markdown",
   "metadata": {},
   "source": [
    "a"
   ]
  },
  {
   "cell_type": "markdown",
   "metadata": {},
   "source": [
    "a"
   ]
  },
  {
   "cell_type": "markdown",
   "metadata": {},
   "source": [
    "a"
   ]
  },
  {
   "cell_type": "markdown",
   "metadata": {},
   "source": [
    "a"
   ]
  },
  {
   "cell_type": "markdown",
   "metadata": {},
   "source": [
    "### Vision <a class=\"anchor\" id=\"vision\"></a>\n",
    "\n",
    "#### Section 2.1 <a class=\"anchor\" id=\"section_2_1\"></a>\n",
    "\n",
    "#### Section 2.2 <a class=\"anchor\" id=\"section_2_2\"></a>"
   ]
  },
  {
   "cell_type": "markdown",
   "metadata": {},
   "source": [
    "### Global Navigation <a class=\"anchor\" id=\"gnavigation\"></a>"
   ]
  },
  {
   "cell_type": "code",
   "execution_count": null,
   "metadata": {},
   "outputs": [],
   "source": []
  },
  {
   "cell_type": "markdown",
   "metadata": {},
   "source": [
    "### Filtering <a class=\"anchor\" id=\"filtering\"></a>\n",
    "#### General Filtering <a class=\"anchor\" id=\"genfiltering\"></a>\n",
    "The goal of having a filter in such a project is to take into account the different uncertainties when trying to localize the robot. To \"localize\" the robot means knowing its position, angle, velocity and angular velocity with respect to a given reference point.\n",
    "\n",
    "There are multiple ways to gather information about the robot's position with the chosen configuration.\n",
    "- Using the position given by the overhead camera\n",
    "- Using the odometry and the robot's speed\n",
    "- Using the accelerometer\n",
    "\n",
    "#### Choosing a filter <a class=\"anchor\" id=\"filterchoice\"></a>\n",
    "The chosen filter has to be bayesian. It also should be able to merge all sensors' data to compute the correct robot's position.\n",
    "As seen during the course, there are multiple bayesian filters following the given criteria. "
   ]
  },
  {
   "cell_type": "markdown",
   "metadata": {},
   "source": [
    "### Local Navigation <a class=\"anchor\" id=\"lnavigation\"></a>"
   ]
  },
  {
   "cell_type": "code",
   "execution_count": null,
   "metadata": {},
   "outputs": [],
   "source": []
  }
 ],
 "metadata": {
  "kernelspec": {
   "display_name": "Python 3",
   "language": "python",
   "name": "python3"
  },
  "language_info": {
   "codemirror_mode": {
    "name": "ipython",
    "version": 3
   },
   "file_extension": ".py",
   "mimetype": "text/x-python",
   "name": "python",
   "nbconvert_exporter": "python",
   "pygments_lexer": "ipython3",
   "version": "3.7.1"
  }
 },
 "nbformat": 4,
 "nbformat_minor": 2
}
