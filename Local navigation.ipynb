{
 "cells": [
  {
   "cell_type": "code",
   "execution_count": null,
   "id": "fefed18e",
   "metadata": {},
   "outputs": [],
   "source": [
    "import tdmclient.notebook\n",
    "import numpy as np\n",
    "await tdmclient.notebook.start()"
   ]
  },
  {
   "cell_type": "code",
   "execution_count": null,
   "id": "e200afbe",
   "metadata": {},
   "outputs": [],
   "source": [
    "%%run_python\n",
    "timer_period[0] = 10  # 10ms sampling time\n",
    "timer=0\n",
    "@onevent \n",
    "def timer0():\n",
    "    global prox_horizontal, motor_left_target, motor_right_target, timer\n",
    "    SPEED=100\n",
    "    PROX_FACTOR=80\n",
    "    THRESHOLD_PROX=50\n",
    "    if prox_horizontal[0]>THRESHOLD_PROX or prox_horizontal[1]>THRESHOLD_PROX:\n",
    "        #Should turn right\n",
    "        motor_left_target=(SPEED+prox_horizontal[0]//PROX_FACTOR+prox_horizontal[1]//PROX_FACTOR)\n",
    "        motor_right_target=(SPEED-prox_horizontal[0]//PROX_FACTOR-prox_horizontal[1]//PROX_FACTOR)\n",
    "        timer=200\n",
    "    elif prox_horizontal[4]>THRESHOLD_PROX :\n",
    "        #Should turn left\n",
    "        motor_left_target=(SPEED-prox_horizontal[4]//PROX_FACTOR-prox_horizontal[3]//PROX_FACTOR)\n",
    "        motor_right_target=(SPEED+prox_horizontal[4]//PROX_FACTOR+prox_horizontal[3]//PROX_FACTOR)\n",
    "        timer=200\n",
    "    elif prox_horizontal[3]>THRESHOLD_PROX:\n",
    "        #Should turn left\n",
    "        motor_left_target=(SPEED-prox_horizontal[4]//PROX_FACTOR-prox_horizontal[3]//PROX_FACTOR)\n",
    "        motor_right_target=(SPEED+prox_horizontal[4]//PROX_FACTOR+prox_horizontal[3]//PROX_FACTOR)\n",
    "        timer=200\n",
    "    else:\n",
    "        if timer>0:\n",
    "            timer=timer-1\n",
    "            motor_left_target=SPEED\n",
    "            motor_right_target=SPEED\n",
    "        else:\n",
    "            timer=0\n",
    "    \n",
    "@onevent\n",
    "def button_center():\n",
    "    global motor_left_target, motor_right_target\n",
    "    motor_left_target=0\n",
    "    motor_right_target=0"
   ]
  },
  {
   "cell_type": "code",
   "execution_count": null,
   "id": "248ff22b",
   "metadata": {},
   "outputs": [],
   "source": [
    "await tdmclient.notebook.stop()"
   ]
  }
 ],
 "metadata": {
  "kernelspec": {
   "display_name": "Python 3 (ipykernel)",
   "language": "python",
   "name": "python3"
  },
  "language_info": {
   "codemirror_mode": {
    "name": "ipython",
    "version": 3
   },
   "file_extension": ".py",
   "mimetype": "text/x-python",
   "name": "python",
   "nbconvert_exporter": "python",
   "pygments_lexer": "ipython3",
   "version": "3.9.7"
  }
 },
 "nbformat": 4,
 "nbformat_minor": 5
}
